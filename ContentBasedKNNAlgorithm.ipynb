{
 "cells": [
  {
   "cell_type": "code",
   "execution_count": 2,
   "metadata": {},
   "outputs": [
    {
     "name": "stdout",
     "output_type": "stream",
     "text": [
      "Importing Jupyter notebook from MovieLens.ipynb\n"
     ]
    }
   ],
   "source": [
    "import nbimporter\n",
    "from surprise import AlgoBase\n",
    "from surprise import PredictionImpossible\n",
    "from MovieLens import MovieLens\n",
    "import math\n",
    "import heapq\n",
    "import numpy as np"
   ]
  },
  {
   "cell_type": "code",
   "execution_count": 3,
   "metadata": {},
   "outputs": [],
   "source": [
    "class ContentKNNAlgorithm(AlgoBase):\n",
    "    \n",
    "    def __init__(self,k=40,sim_options={}):\n",
    "        AlgoBase.__init__(self)\n",
    "        self.k = k\n",
    "    \n",
    "    def fit(self,trainset):\n",
    "        AlgoBase.fit(self,trainset)\n",
    "        ml = MovieLens()\n",
    "        genres = ml.getGenres()\n",
    "        years = ml.getYears()\n",
    "        \n",
    "        print(\"Computing content-based similarity matrix...\")\n",
    "        self.similarities = np.zeros((self.trainset.n_items, self.trainset.n_items))\n",
    "        \n",
    "        for currRating in range(self.trainset.n_items):\n",
    "            if(currRating%1000 == 0):\n",
    "                print(currRating, \" of \", self.trainset.n_items)\n",
    "            for secRating in range(currRating+1,self.trainset.n_items):\n",
    "                currMovieID = int(self.trainset.to_raw_iid(currRating))\n",
    "                secMovieID = int(self.trainset.to_raw_iid(secRating))\n",
    "                genreSimilarity = self.computeGenreSimilarity(currMovieID, secMovieID, genres)\n",
    "                yearSimilarity = self.computeYearSimilarity(currMovieID, secMovieID, years)\n",
    "                \n",
    "                self.similarities[currRating, secRating] = genreSimilarity * yearSimilarity\n",
    "                self.similarities[secRating, currRating]= self.similarities[currRating, secRating]\n",
    "        \n",
    "        print(\"...done\")\n",
    "        return self\n",
    "    \n",
    "    def computeGenreSimilarity(self, movie1, movie2, genres):\n",
    "        genres1 = genres[movie1]\n",
    "        genres2 = genres[movie2]\n",
    "        sumxx, sumxy, sumyy = 0, 0, 0\n",
    "        for i in range(len(genres1)):\n",
    "            x = genres1[i]\n",
    "            y = genres2[i]\n",
    "            sumxx += x * x\n",
    "            sumyy += y * y\n",
    "            sumxy += x * y\n",
    "        \n",
    "        return sumxy/math.sqrt(sumxx*sumyy)\n",
    "    \n",
    "    def computeYearSimilarity(self, movie1, movie2, years):\n",
    "        diff = abs(years[movie1] - years[movie2])\n",
    "        sim = math.exp(-diff / 10.0)\n",
    "        return sim\n",
    "    \n",
    "    def estimate(self,user,item):\n",
    "        if not (self.trainset.knows_user(user) and self.trainset.knows_item(item)):\n",
    "            raise PredictionImpossible('User and/or item is unkown.')\n",
    "        \n",
    "        # Build up similarity scores between this item and everything the user rated\n",
    "        neighbors = []\n",
    "        for rating in self.trainset.ur[user]:\n",
    "            genreSimilarity = self.similarities[item,rating[0]]\n",
    "            neighbors.append( (genreSimilarity, rating[1]))\n",
    "        \n",
    "        kNeighbors = heapq.nlargest(self.k,neighbors,key = lambda x:x[0])\n",
    "        simTotal = weightedSum = 0\n",
    "        for (simScore, rating) in kNeighbors:\n",
    "            if (simScore > 0):\n",
    "                simTotal += simScore\n",
    "                weightedSum += simScore * rating\n",
    "        \n",
    "        if (simTotal == 0):\n",
    "            raise PredictionImpossible('No neighbors')\n",
    "\n",
    "        predictedRating = weightedSum/simTotal\n",
    "\n",
    "        return predictedRating            "
   ]
  },
  {
   "cell_type": "code",
   "execution_count": null,
   "metadata": {},
   "outputs": [],
   "source": []
  }
 ],
 "metadata": {
  "kernelspec": {
   "display_name": "Python 3",
   "language": "python",
   "name": "python3"
  },
  "language_info": {
   "codemirror_mode": {
    "name": "ipython",
    "version": 3
   },
   "file_extension": ".py",
   "mimetype": "text/x-python",
   "name": "python",
   "nbconvert_exporter": "python",
   "pygments_lexer": "ipython3",
   "version": "3.6.8"
  }
 },
 "nbformat": 4,
 "nbformat_minor": 2
}
