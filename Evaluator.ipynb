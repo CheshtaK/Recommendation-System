{
 "cells": [
  {
   "cell_type": "code",
   "execution_count": 1,
   "metadata": {},
   "outputs": [
    {
     "name": "stdout",
     "output_type": "stream",
     "text": [
      "Importing Jupyter notebook from EvaluationData.ipynb\n",
      "Importing Jupyter notebook from EvaluatedAlgorithm.ipynb\n",
      "Importing Jupyter notebook from RecommenderMetrics.ipynb\n"
     ]
    }
   ],
   "source": [
    "import nbimporter\n",
    "from EvaluationData import EvaluationData\n",
    "from EvaluatedAlgorithm import EvaluatedAlgorithm\n",
    "import pandas as pd"
   ]
  },
  {
   "cell_type": "code",
   "execution_count": 1,
   "metadata": {},
   "outputs": [],
   "source": [
    "class Evaluator:\n",
    "    algorithms = []\n",
    "    \n",
    "    def __init__(self,dataset,rankings):\n",
    "        evalData = EvaluationData(dataset,rankings)\n",
    "        self.dataset = evalData\n",
    "        \n",
    "    def AddAlgorithm(self,algorithm,name):\n",
    "        algo = EvaluatedAlgorithm(algorithm, name)\n",
    "        self.algorithms.append(algo)\n",
    "    \n",
    "    def Evaluate(self,doTopN):\n",
    "        results = {}\n",
    "        for algorithm in self.algorithms:\n",
    "            print(\"Evaluating \", algorithm.getName(), \"...\")\n",
    "            results[algorithm.getName()] = algorithm.Evaluate(self.dataset, doTopN)\n",
    "        print(\"\\n\")\n",
    "        \n",
    "        if(doTopN):\n",
    "            df = pd.DataFrame()\n",
    "            columns = [\"Algorithm\", \"RMSE\", \"MAE\", \"HR\", \"cHR\", \"ARHR\", \"Coverage\", \"Diversity\", \"Novelty\"]\n",
    "            df = pd.DataFrame(columns=columns)\n",
    "            i = 0\n",
    "            for (name, metrics) in results.items():\n",
    "                dfRow = {}\n",
    "                dfRow['Algorithm'] = name\n",
    "                dfRow['RMSE'] = metrics['RMSE']\n",
    "                dfRow['MAE'] = metrics['MAE']\n",
    "                dfRow['HR'] = metrics['HR']\n",
    "                dfRow['cHR'] = metrics['cHR']\n",
    "                dfRow['ARHR'] = metrics['ARHR']\n",
    "                dfRow['Coverage'] = metrics['Coverage']\n",
    "                dfRow['Diversity'] = metrics['Diversity']\n",
    "                dfRow['Novelty'] = metrics['Novelty']\n",
    "                df.loc[i] = dfRow \n",
    "                i += 1\n",
    "            print(df)\n",
    "        else:\n",
    "            df = pd.DataFrame()\n",
    "            columns = [\"Algorithm\",\"RMSE\",\"MAE\"]\n",
    "            df = pd.DataFrame(columns=columns)\n",
    "            i = 0\n",
    "            for (name, metrics) in results.items():\n",
    "                dfRow = {}\n",
    "                dfRow['Algorithm'] = name\n",
    "                dfRow['RMSE'] = metrics['RMSE']\n",
    "                dfRow['MAE'] = metrics['MAE']\n",
    "                df.loc[i] = dfRow \n",
    "                i += 1\n",
    "            print(df)\n",
    "    \n",
    "    def SampleTopNRecs(self,ml,testeSubject = 85,k = 10):\n",
    "        print(\"\\nUsing recommender \", algo.getName())\n",
    "        print(\"\\nBuilding recommendation model...\")\n",
    "        trainSet = self.dataset.getFullTrainSet()\n",
    "        algo.getAlgorithm().fit(trainSet)\n",
    "\n",
    "        print(\"Computing recommendations...\")\n",
    "        testSet = self.dataset.getAntiTestSetForUser(testSubject)\n",
    "        predictions = algo.getAlgorithm().test(testSet)\n",
    "        \n",
    "        recommendations = []\n",
    "        print (\"\\nWe recommend:\")\n",
    "        for userID, movieID, actualRating, estimatedRating, _ in predictions:\n",
    "            intMovieID = int(movieID)\n",
    "            recommendations.append((intMovieID, estimatedRating))\n",
    "\n",
    "        recommendations.sort(key=lambda x: x[1], reverse=True)\n",
    "\n",
    "        for ratings in recommendations[:10]:\n",
    "            print(ml.getMovieName(ratings[0]), ratings[1])\n",
    "                "
   ]
  },
  {
   "cell_type": "code",
   "execution_count": null,
   "metadata": {},
   "outputs": [],
   "source": []
  }
 ],
 "metadata": {
  "kernelspec": {
   "display_name": "Python 3",
   "language": "python",
   "name": "python3"
  },
  "language_info": {
   "codemirror_mode": {
    "name": "ipython",
    "version": 3
   },
   "file_extension": ".py",
   "mimetype": "text/x-python",
   "name": "python",
   "nbconvert_exporter": "python",
   "pygments_lexer": "ipython3",
   "version": "3.6.8"
  }
 },
 "nbformat": 4,
 "nbformat_minor": 2
}
