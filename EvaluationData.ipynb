{
 "cells": [
  {
   "cell_type": "code",
   "execution_count": 1,
   "metadata": {},
   "outputs": [],
   "source": [
    "from surprise.model_selection import train_test_split\n",
    "from surprise.model_selection import LeaveOneOut\n",
    "from surprise import KNNBaseline"
   ]
  },
  {
   "cell_type": "code",
   "execution_count": null,
   "metadata": {},
   "outputs": [],
   "source": [
    "class EvaluationData:\n",
    "    \n",
    "    def __init__(self,data,popularityRankings):\n",
    "        self.rankings = popularityRankings\n",
    "        \n",
    "        self.fullTrainSet = data.build_full_trainset()\n",
    "        self.fullAntiTestSet = self.fullTrainSet.build_anti_testset()\n",
    "        \n",
    "        self.trainSet,self.testSet = train_test_split(data,test_size= 0.25, random_state=1)\n",
    "        \n",
    "        LOOCV = LeaveOneOut(n_splits=1,random_state=1)\n",
    "        for train,test in LOOCV.split(data):\n",
    "            self.LOOCVTrain = train\n",
    "            self.LOOCVTest = test\n",
    "        \n",
    "        self.LOOCVAntiTestSet = self.LOOCVTrain.build_anti_testset()\n",
    "        simOptions = {'name':'cosine','user_based':False}\n",
    "        self.simsAlgo = KNNBaseline(sim_options=simOptions)\n",
    "        self.simsAlgo.fit(self.fullTrainSet)\n",
    "        \n",
    "    def getAntiTestSetForUser(self,testSubject):\n",
    "        trainset = self.fullTrainSet\n",
    "        fill = trainset.global_mean\n",
    "        antiTestSet = []\n",
    "        u = trainset.to_inner_uid(str(testSubject))\n",
    "        userItems = set([j for (j, _) in trainset.ur[u]])\n",
    "        antiTestset += [(trainset.to_raw_uid(u), trainset.to_raw_iid(i), fill) for\n",
    "                                 i in trainset.all_items() if\n",
    "                                 i not in userItems]\n",
    "        return antiTestset\n",
    "        \n",
    "    def getFullTrainSet(self):\n",
    "        return self.fullTrainSet\n",
    "    \n",
    "    def getFullAntiTestSet(self):\n",
    "        return self.fullAntiTestSet\n",
    "        \n",
    "    def getTrainSet(self):\n",
    "        return self.trainSet\n",
    "    \n",
    "    def getTestSet(self):\n",
    "        return self.testSet\n",
    "    \n",
    "    def getLOOCVTrainSet(self):\n",
    "        return self.LOOCVTrain\n",
    "    \n",
    "    def getLOOCVTestSet(self):\n",
    "        return self.LOOCVTest\n",
    "    \n",
    "    def getLOOCVAntiTestSet(self):\n",
    "        return self.LOOCVAntiTestSet\n",
    "    \n",
    "    def getSimilarities(self):\n",
    "        return self.simsAlgo\n",
    "    \n",
    "    def getPopularityRankings(self):\n",
    "        return self.rankings\n",
    "        \n",
    "        "
   ]
  }
 ],
 "metadata": {
  "kernelspec": {
   "display_name": "Python 3",
   "language": "python",
   "name": "python3"
  },
  "language_info": {
   "codemirror_mode": {
    "name": "ipython",
    "version": 3
   },
   "file_extension": ".py",
   "mimetype": "text/x-python",
   "name": "python",
   "nbconvert_exporter": "python",
   "pygments_lexer": "ipython3",
   "version": "3.6.8"
  }
 },
 "nbformat": 4,
 "nbformat_minor": 2
}
