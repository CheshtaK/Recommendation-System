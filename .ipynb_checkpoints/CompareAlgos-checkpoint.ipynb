{
 "cells": [
  {
   "cell_type": "code",
   "execution_count": 1,
   "metadata": {},
   "outputs": [
    {
     "name": "stdout",
     "output_type": "stream",
     "text": [
      "Importing Jupyter notebook from MovieLens.ipynb\n",
      "Importing Jupyter notebook from Evaluator.ipynb\n",
      "Importing Jupyter notebook from EvaluationData.ipynb\n",
      "Importing Jupyter notebook from EvaluatedAlgorithm.ipynb\n",
      "Importing Jupyter notebook from RecommenderMetrics.ipynb\n"
     ]
    }
   ],
   "source": [
    "import nbimporter\n",
    "from MovieLens import MovieLens\n",
    "from surprise import SVD\n",
    "from surprise import NormalPredictor\n",
    "from Evaluator import Evaluator\n",
    "import random\n",
    "import numpy as np\n",
    "#from importlib import reload"
   ]
  },
  {
   "cell_type": "code",
   "execution_count": 2,
   "metadata": {},
   "outputs": [],
   "source": [
    "#reload(Evaluator)"
   ]
  },
  {
   "cell_type": "code",
   "execution_count": 3,
   "metadata": {},
   "outputs": [],
   "source": [
    "def LoadMovieLensData():\n",
    "    ml = MovieLens()\n",
    "    data = ml.loadMovieLensLatestSmall()\n",
    "    rankings = ml.getPopularityRanks()\n",
    "    return (data, rankings)"
   ]
  },
  {
   "cell_type": "code",
   "execution_count": 4,
   "metadata": {},
   "outputs": [],
   "source": [
    "np.random.seed(0)\n",
    "random.seed(0)"
   ]
  },
  {
   "cell_type": "code",
   "execution_count": 5,
   "metadata": {},
   "outputs": [],
   "source": [
    "(evaluationData, rankings) = LoadMovieLensData()"
   ]
  },
  {
   "cell_type": "code",
   "execution_count": 6,
   "metadata": {},
   "outputs": [
    {
     "name": "stdout",
     "output_type": "stream",
     "text": [
      "Estimating biases using als...\n",
      "Computing the cosine similarity matrix...\n",
      "Done computing similarity matrix.\n"
     ]
    }
   ],
   "source": [
    "evaluator = Evaluator(evaluationData, rankings)"
   ]
  },
  {
   "cell_type": "code",
   "execution_count": 7,
   "metadata": {},
   "outputs": [],
   "source": [
    "SVDAlgorithm = SVD(random_state=10)\n",
    "evaluator.AddAlgorithm(SVDAlgorithm, \"SVD\")"
   ]
  },
  {
   "cell_type": "code",
   "execution_count": 8,
   "metadata": {},
   "outputs": [],
   "source": [
    "Random = NormalPredictor()\n",
    "evaluator.AddAlgorithm(Random, \"Random\")"
   ]
  },
  {
   "cell_type": "code",
   "execution_count": 9,
   "metadata": {},
   "outputs": [
    {
     "name": "stdout",
     "output_type": "stream",
     "text": [
      "Evaluating  SVD ...\n",
      "Evaluating accuracy...\n",
      "Evaluating top-N with leave-one-out...\n",
      "Computing hit-rate and rank metrics...\n",
      "Computing recommendations with full data set...\n",
      "Analyzing coverage, diversity, and novelty...\n",
      "Computing the cosine similarity matrix...\n",
      "Done computing similarity matrix.\n",
      "Analysis complete.\n",
      "Evaluating  Random ...\n",
      "Evaluating accuracy...\n",
      "Evaluating top-N with leave-one-out...\n",
      "Computing hit-rate and rank metrics...\n",
      "Computing recommendations with full data set...\n",
      "Analyzing coverage, diversity, and novelty...\n",
      "Computing the cosine similarity matrix...\n",
      "Done computing similarity matrix.\n",
      "Analysis complete.\n",
      "\n",
      "\n",
      "  Algorithm      RMSE       MAE        HR       cHR      ARHR  Coverage  \\\n",
      "0       SVD  0.903370  0.697788  0.029806  0.029806  0.011156  0.955291   \n",
      "1    Random  1.438459  1.147809  0.008942  0.008942  0.001505  1.000000   \n",
      "\n",
      "   Diversity     Novelty  \n",
      "0   0.044513  491.576778  \n",
      "1   0.071946  557.836513  \n"
     ]
    }
   ],
   "source": [
    "evaluator.Evaluate(True)"
   ]
  },
  {
   "cell_type": "code",
   "execution_count": null,
   "metadata": {},
   "outputs": [],
   "source": []
  },
  {
   "cell_type": "code",
   "execution_count": null,
   "metadata": {},
   "outputs": [],
   "source": []
  }
 ],
 "metadata": {
  "kernelspec": {
   "display_name": "Python 3",
   "language": "python",
   "name": "python3"
  },
  "language_info": {
   "codemirror_mode": {
    "name": "ipython",
    "version": 3
   },
   "file_extension": ".py",
   "mimetype": "text/x-python",
   "name": "python",
   "nbconvert_exporter": "python",
   "pygments_lexer": "ipython3",
   "version": "3.6.8"
  }
 },
 "nbformat": 4,
 "nbformat_minor": 2
}
