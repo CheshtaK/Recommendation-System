{
 "cells": [
  {
   "cell_type": "code",
   "execution_count": 1,
   "metadata": {},
   "outputs": [
    {
     "name": "stdout",
     "output_type": "stream",
     "text": [
      "Importing Jupyter notebook from MovieLens.ipynb\n",
      "Importing Jupyter notebook from ContentBasedKNNAlgorithm.ipynb\n",
      "Importing Jupyter notebook from Evaluator.ipynb\n",
      "Importing Jupyter notebook from EvaluationData.ipynb\n",
      "Importing Jupyter notebook from EvaluatedAlgorithm.ipynb\n",
      "Importing Jupyter notebook from RecommenderMetrics.ipynb\n"
     ]
    }
   ],
   "source": [
    "import nbimporter\n",
    "from MovieLens import MovieLens\n",
    "from surprise import SVD\n",
    "from surprise import NormalPredictor\n",
    "from ContentBasedKNNAlgorithm import ContentKNNAlgorithm\n",
    "from surprise import KNNBasic\n",
    "from Evaluator import Evaluator\n",
    "import random\n",
    "import numpy as np\n",
    "#from importlib import reload"
   ]
  },
  {
   "cell_type": "code",
   "execution_count": 2,
   "metadata": {},
   "outputs": [],
   "source": [
    "#reload(Evaluator)"
   ]
  },
  {
   "cell_type": "code",
   "execution_count": 3,
   "metadata": {},
   "outputs": [],
   "source": [
    "def LoadMovieLensData():\n",
    "    ml = MovieLens()\n",
    "    data = ml.loadMovieLensLatestSmall()\n",
    "    rankings = ml.getPopularityRanks()\n",
    "    return (ml,data, rankings)"
   ]
  },
  {
   "cell_type": "code",
   "execution_count": 4,
   "metadata": {},
   "outputs": [],
   "source": [
    "np.random.seed(0)\n",
    "random.seed(0)"
   ]
  },
  {
   "cell_type": "code",
   "execution_count": 5,
   "metadata": {},
   "outputs": [],
   "source": [
    "(ml,evaluationData, rankings) = LoadMovieLensData()"
   ]
  },
  {
   "cell_type": "code",
   "execution_count": 6,
   "metadata": {},
   "outputs": [
    {
     "name": "stdout",
     "output_type": "stream",
     "text": [
      "Estimating biases using als...\n",
      "Computing the cosine similarity matrix...\n",
      "Done computing similarity matrix.\n"
     ]
    }
   ],
   "source": [
    "evaluator = Evaluator(evaluationData, rankings)"
   ]
  },
  {
   "cell_type": "code",
   "execution_count": 7,
   "metadata": {},
   "outputs": [],
   "source": [
    "UserKNN = KNNBasic(sim_options = {'name': 'cosine', 'user_based': True})\n",
    "evaluator.AddAlgorithm(UserKNN, \"User based KNN\")"
   ]
  },
  {
   "cell_type": "code",
   "execution_count": 8,
   "metadata": {},
   "outputs": [],
   "source": [
    "ItemKNN = KNNBasic(sim_options = {'name': 'cosine', 'user_based': False})\n",
    "evaluator.AddAlgorithm(ItemKNN, \"Item based KNN\")"
   ]
  },
  {
   "cell_type": "code",
   "execution_count": 9,
   "metadata": {},
   "outputs": [],
   "source": [
    "ContentKNN = ContentKNNAlgorithm()\n",
    "evaluator.AddAlgorithm(ContentKNN, \"Content based KNN\")"
   ]
  },
  {
   "cell_type": "code",
   "execution_count": 10,
   "metadata": {},
   "outputs": [],
   "source": [
    "SVDAlgorithm = SVD(random_state=10)\n",
    "evaluator.AddAlgorithm(SVDAlgorithm, \"SVD\")"
   ]
  },
  {
   "cell_type": "code",
   "execution_count": 11,
   "metadata": {},
   "outputs": [],
   "source": [
    "Random = NormalPredictor()\n",
    "evaluator.AddAlgorithm(Random, \"Random\")"
   ]
  },
  {
   "cell_type": "code",
   "execution_count": 12,
   "metadata": {},
   "outputs": [
    {
     "name": "stdout",
     "output_type": "stream",
     "text": [
      "Evaluating  User based KNN ...\n",
      "Evaluating accuracy...\n",
      "Computing the cosine similarity matrix...\n",
      "Done computing similarity matrix.\n",
      "Analysis complete.\n",
      "Evaluating  Item based KNN ...\n",
      "Evaluating accuracy...\n",
      "Computing the cosine similarity matrix...\n",
      "Done computing similarity matrix.\n",
      "Analysis complete.\n",
      "Evaluating  Content based KNN ...\n",
      "Evaluating accuracy...\n",
      "Computing content-based similarity matrix...\n",
      "0  of  8211\n",
      "1000  of  8211\n",
      "2000  of  8211\n",
      "3000  of  8211\n",
      "4000  of  8211\n",
      "5000  of  8211\n",
      "6000  of  8211\n",
      "7000  of  8211\n",
      "8000  of  8211\n",
      "...done\n",
      "Analysis complete.\n",
      "Evaluating  SVD ...\n",
      "Evaluating accuracy...\n",
      "Analysis complete.\n",
      "Evaluating  Random ...\n",
      "Evaluating accuracy...\n",
      "Analysis complete.\n",
      "\n",
      "\n",
      "           Algorithm      RMSE       MAE\n",
      "0     User based KNN  0.996106  0.771132\n",
      "1     Item based KNN  0.999465  0.779842\n",
      "2  Content based KNN  0.937506  0.726342\n",
      "3                SVD  0.903370  0.697788\n",
      "4             Random  1.438459  1.147809\n"
     ]
    }
   ],
   "source": [
    "evaluator.Evaluate(False)"
   ]
  },
  {
   "cell_type": "code",
   "execution_count": 13,
   "metadata": {},
   "outputs": [
    {
     "name": "stdout",
     "output_type": "stream",
     "text": [
      "\n",
      "Using recommender  User based KNN\n",
      "\n",
      "Building recommendation model...\n",
      "Computing the cosine similarity matrix...\n",
      "Done computing similarity matrix.\n",
      "Computing recommendations...\n",
      "\n",
      "We ecommend:\n",
      "One Magic Christmas (1985) 5\n",
      "Step Into Liquid (2002) 5\n",
      "Art of War, The (2000) 5\n",
      "Taste of Cherry (Ta'm e guilass) (1997) 5\n",
      "King Is Alive, The (2000) 5\n",
      "Innocence (2000) 5\n",
      "Maelström (2000) 5\n",
      "Faust (1926) 5\n",
      "Seconds (1966) 5\n",
      "Amazing Grace (2006) 5\n",
      "\n",
      "Using recommender  Item based KNN\n",
      "\n",
      "Building recommendation model...\n",
      "Computing the cosine similarity matrix...\n",
      "Done computing similarity matrix.\n",
      "Computing recommendations...\n",
      "\n",
      "We ecommend:\n",
      "Life in a Day (2011) 5\n",
      "Under Suspicion (2000) 5\n",
      "Asterix and the Gauls (Astérix le Gaulois) (1967) 5\n",
      "Find Me Guilty (2006) 5\n",
      "Elementary Particles, The (Elementarteilchen) (2006) 5\n",
      "Asterix and the Vikings (Astérix et les Vikings) (2006) 5\n",
      "From the Sky Down (2011) 5\n",
      "Vive L'Amour (Ai qing wan sui) (1994) 5\n",
      "Vagabond (Sans toit ni loi) (1985) 5\n",
      "Ariel (1988) 5\n",
      "\n",
      "Using recommender  Content based KNN\n",
      "\n",
      "Building recommendation model...\n",
      "Computing content-based similarity matrix...\n",
      "0  of  9066\n",
      "1000  of  9066\n",
      "2000  of  9066\n",
      "3000  of  9066\n",
      "4000  of  9066\n",
      "5000  of  9066\n",
      "6000  of  9066\n",
      "7000  of  9066\n",
      "8000  of  9066\n",
      "9000  of  9066\n",
      "...done\n",
      "Computing recommendations...\n",
      "\n",
      "We ecommend:\n",
      "Presidio, The (1988) 3.841314676872932\n",
      "Femme Nikita, La (Nikita) (1990) 3.839613347087336\n",
      "Wyatt Earp (1994) 3.8125061475551796\n",
      "Shooter, The (1997) 3.8125061475551796\n",
      "Bad Girls (1994) 3.8125061475551796\n",
      "The Hateful Eight (2015) 3.812506147555179\n",
      "True Grit (2010) 3.812506147555179\n",
      "Open Range (2003) 3.812506147555179\n",
      "Big Easy, The (1987) 3.7835412549266985\n",
      "Point Break (1991) 3.764158410102279\n",
      "\n",
      "Using recommender  SVD\n",
      "\n",
      "Building recommendation model...\n",
      "Computing recommendations...\n",
      "\n",
      "We ecommend:\n",
      "All About Eve (1950) 4.664329553139239\n",
      "Star Wars: Episode V - The Empire Strikes Back (1980) 4.457622860222441\n",
      "Fight Club (1999) 4.413013737922685\n",
      "Cool Hand Luke (1967) 4.324735965175654\n",
      "Goodfellas (1990) 4.313127515176427\n",
      "Hachiko: A Dog's Story (a.k.a. Hachi: A Dog's Tale) (2009) 4.28475388664577\n",
      "General, The (1926) 4.275077814188174\n",
      "African Queen, The (1951) 4.268684927659452\n",
      "Graduate, The (1967) 4.266983751627775\n",
      "When We Were Kings (1996) 4.260587745692242\n",
      "\n",
      "Using recommender  Random\n",
      "\n",
      "Building recommendation model...\n",
      "Computing recommendations...\n",
      "\n",
      "We ecommend:\n",
      "Sleepers (1996) 5\n",
      "Beavis and Butt-Head Do America (1996) 5\n",
      "Fear and Loathing in Las Vegas (1998) 5\n",
      "Happiness (1998) 5\n",
      "Summer of Sam (1999) 5\n",
      "Bowling for Columbine (2002) 5\n",
      "Babe (1995) 5\n",
      "Birdcage, The (1996) 5\n",
      "Carlito's Way (1993) 5\n",
      "Wizard of Oz, The (1939) 5\n"
     ]
    }
   ],
   "source": [
    "evaluator.SampleTopNRecs(ml)"
   ]
  },
  {
   "cell_type": "code",
   "execution_count": null,
   "metadata": {},
   "outputs": [],
   "source": []
  }
 ],
 "metadata": {
  "kernelspec": {
   "display_name": "Python 3",
   "language": "python",
   "name": "python3"
  },
  "language_info": {
   "codemirror_mode": {
    "name": "ipython",
    "version": 3
   },
   "file_extension": ".py",
   "mimetype": "text/x-python",
   "name": "python",
   "nbconvert_exporter": "python",
   "pygments_lexer": "ipython3",
   "version": "3.6.8"
  }
 },
 "nbformat": 4,
 "nbformat_minor": 2
}
