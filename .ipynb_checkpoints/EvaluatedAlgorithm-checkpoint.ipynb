{
 "cells": [
  {
   "cell_type": "code",
   "execution_count": 2,
   "metadata": {},
   "outputs": [],
   "source": [
    "import nbimporter\n",
    "from RecommenderMetrics import RecommenderMetrics\n",
    "from EvaluationData import EvaluationData\n",
    "from collections import defaultdict"
   ]
  },
  {
   "cell_type": "code",
   "execution_count": 1,
   "metadata": {},
   "outputs": [],
   "source": [
    "class EvaluatedAlgorithm:\n",
    "    \n",
    "    def __init__(self,algorithm,name):\n",
    "        self.algorithm = algorithm\n",
    "        self.name = name\n",
    "    \n",
    "    def Evaluate(self,evaluationData,doTopN,n = 10,verbose = True):\n",
    "        metrics = defaultdict()\n",
    "        \n",
    "        if(verbose):\n",
    "            print(\"Evaluating accuracy...\")\n",
    "        self.algorithm.fit(evaluationData.getTrainSet())\n",
    "        predictions = self.algorithm.test(evaluationData.getTestSet())\n",
    "        metrics[\"RMSE\"] = RecommenderMetrics.RMSE(predictions)\n",
    "        metrics[\"MAE\"] = RecommenderMetrics.MAE(predictions)\n",
    "        \n",
    "        if(doTopN):\n",
    "            if (verbose):\n",
    "                print(\"Evaluating top-N with leave-one-out...\")\n",
    "            self.algorithm.fit(evaluationData.getLOOCVTrainSet())\n",
    "            leftOutPredictions = self.algorithm.test(evaluationData.getLOOCVTestSet()) \n",
    "            \n",
    "            allPredictions = self.algorithm.test(evaluationData.getLOOCVAntiTestSet())\n",
    "            topNPredicted = RecommenderMetrics.GetTopN(allPredictions, n)\n",
    "            if (verbose):\n",
    "                print(\"Computing hit-rate and rank metrics...\")\n",
    "                \n",
    "            metrics[\"HR\"] = RecommenderMetrics.HitRate(topNPredicted, leftOutPredictions)   \n",
    "            metrics[\"cHR\"] = RecommenderMetrics.CumulativeHitRate(topNPredicted, leftOutPredictions)\n",
    "            metrics[\"ARHR\"] = RecommenderMetrics.AverageReciprocalHitRank(topNPredicted, leftOutPredictions)\n",
    "            \n",
    "            if (verbose):\n",
    "                print(\"Computing recommendations with full data set...\")\n",
    "            self.algorithm.fit(evaluationData.getFullTrainSet())\n",
    "            allPredictions = self.algorithm.test(evaluationData.getFullAntiTestSet())\n",
    "            topNPredicted = RecommenderMetrics.GetTopN(allPredictions, n)\n",
    "            if (verbose):\n",
    "                print(\"Analyzing coverage, diversity, and novelty...\")\n",
    "            \n",
    "            metrics[\"Coverage\"] = RecommenderMetrics.UserCoverage(topNPredicted,evaluationData.getFullTrainSet().n_users,ratingThreshold=4.0)\n",
    "            metrics[\"Diversity\"] = RecommenderMetrics.Diversity(topNPredicted, evaluationData.getSimilarities())\n",
    "            metrics[\"Novelty\"] = RecommenderMetrics.Novelty(topNPredicted,evaluationData.getPopularityRankings())\n",
    "\n",
    "        if (verbose):\n",
    "            print(\"Analysis complete.\")\n",
    "    \n",
    "        return metrics   \n",
    "        \n",
    "    def getName(self):\n",
    "        return self.name\n",
    "    \n",
    "    def getAlgorithm(self):\n",
    "        return self.algorithm"
   ]
  },
  {
   "cell_type": "code",
   "execution_count": null,
   "metadata": {},
   "outputs": [],
   "source": []
  }
 ],
 "metadata": {
  "kernelspec": {
   "display_name": "Python 3",
   "language": "python",
   "name": "python3"
  },
  "language_info": {
   "codemirror_mode": {
    "name": "ipython",
    "version": 3
   },
   "file_extension": ".py",
   "mimetype": "text/x-python",
   "name": "python",
   "nbconvert_exporter": "python",
   "pygments_lexer": "ipython3",
   "version": "3.6.8"
  }
 },
 "nbformat": 4,
 "nbformat_minor": 2
}
