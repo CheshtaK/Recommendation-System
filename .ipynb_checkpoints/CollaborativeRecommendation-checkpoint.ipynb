{
 "cells": [
  {
   "cell_type": "code",
   "execution_count": 1,
   "metadata": {},
   "outputs": [
    {
     "name": "stdout",
     "output_type": "stream",
     "text": [
      "Importing Jupyter notebook from MovieLens.ipynb\n"
     ]
    }
   ],
   "source": [
    "import nbimporter\n",
    "from MovieLens import MovieLens\n",
    "from surprise import KNNBasic\n",
    "import heapq\n",
    "from collections import defaultdict"
   ]
  },
  {
   "cell_type": "code",
   "execution_count": 15,
   "metadata": {},
   "outputs": [],
   "source": [
    "testUser = '85'\n",
    "k = 10"
   ]
  },
  {
   "cell_type": "code",
   "execution_count": 5,
   "metadata": {},
   "outputs": [],
   "source": [
    "ml = MovieLens()"
   ]
  },
  {
   "cell_type": "code",
   "execution_count": 12,
   "metadata": {},
   "outputs": [],
   "source": [
    "data = ml.loadMovieLensLatestSmall()\n",
    "trainSet = data.build_full_trainset()"
   ]
  },
  {
   "cell_type": "code",
   "execution_count": 58,
   "metadata": {},
   "outputs": [],
   "source": [
    "watched = {}\n",
    "for itemID,rating in trainSet.ur[testUserInnerId]:\n",
    "    watched[itemID] = 1"
   ]
  },
  {
   "cell_type": "code",
   "execution_count": 59,
   "metadata": {},
   "outputs": [
    {
     "name": "stdout",
     "output_type": "stream",
     "text": [
      "Movies watched by user 85: \n",
      "Jumanji (1995)\n",
      "Grumpier Old Men (1995)\n",
      "Father of the Bride Part II (1995)\n",
      "GoldenEye (1995)\n",
      "Ace Ventura: When Nature Calls (1995)\n",
      "Get Shorty (1995)\n",
      "Assassins (1995)\n",
      "Mortal Kombat (1995)\n",
      "Postman, The (Postino, Il) (1994)\n",
      "Braveheart (1995)\n",
      "Batman Forever (1995)\n",
      "Casper (1995)\n",
      "Congo (1995)\n",
      "Crimson Tide (1995)\n",
      "Die Hard: With a Vengeance (1995)\n",
      "Hackers (1995)\n",
      "Johnny Mnemonic (1995)\n",
      "Judge Dredd (1995)\n",
      "Lord of Illusions (1995)\n",
      "Mighty Morphin Power Rangers: The Movie (1995)\n",
      "Net, The (1995)\n"
     ]
    }
   ],
   "source": [
    "print(\"Movies watched by user 85: \")\n",
    "cnt = 0\n",
    "for itemID in watched:\n",
    "    print(ml.getMovieName(int(trainSet.to_raw_iid(itemID))))\n",
    "    cnt += 1\n",
    "    if(cnt > 20):\n",
    "        break"
   ]
  },
  {
   "cell_type": "markdown",
   "metadata": {},
   "source": [
    "### User Based Recommendation"
   ]
  },
  {
   "cell_type": "code",
   "execution_count": 78,
   "metadata": {},
   "outputs": [
    {
     "name": "stdout",
     "output_type": "stream",
     "text": [
      "Computing the cosine similarity matrix...\n",
      "Done computing similarity matrix.\n",
      "Computing the cosine similarity matrix...\n",
      "Done computing similarity matrix.\n"
     ]
    }
   ],
   "source": [
    "simsOptions = {'name':'cosine','user_based':True}\n",
    "model = KNNBasic(sim_options=simsOptions)\n",
    "model.fit(trainSet)\n",
    "simsMatrix = model.compute_similarities()"
   ]
  },
  {
   "cell_type": "code",
   "execution_count": 79,
   "metadata": {},
   "outputs": [],
   "source": [
    "testUserInnerId = trainSet.to_inner_uid(testUser)\n",
    "similarityRow = simsMatrix[testUserInnerId]  #Stores similarity row between user 85 and other users"
   ]
  },
  {
   "cell_type": "code",
   "execution_count": 80,
   "metadata": {},
   "outputs": [],
   "source": [
    "# Making list of similar users\n",
    "similarUsers = []\n",
    "for innerID,score in enumerate(similarityRow):\n",
    "    if(innerID != testUserInnerId):\n",
    "        similarUsers.append((innerID,score))"
   ]
  },
  {
   "cell_type": "code",
   "execution_count": 84,
   "metadata": {},
   "outputs": [],
   "source": [
    "kNeighbors = heapq.nlargest(k,similarUsers,key = lambda x:x[1]) # Top K similar users\n",
    "kNeighbors = []\n",
    "for rating in similarUsers:\n",
    "    if rating[1] > 0.98:\n",
    "        kNeighbors.append(rating)"
   ]
  },
  {
   "cell_type": "markdown",
   "metadata": {},
   "source": [
    "#### Finding cumulative rating of all the movies watched by similar users"
   ]
  },
  {
   "cell_type": "code",
   "execution_count": 85,
   "metadata": {},
   "outputs": [],
   "source": [
    "candidates = defaultdict(float)\n",
    "for similarUser in kNeighbors:\n",
    "    simUserIID = similarUser[0]\n",
    "    userSimilarityScore = similarUser[1]\n",
    "    simUserRatings = trainSet.ur[simUserIID] #Ratings of movies watched by this similar user\n",
    "    for rating in simUserRatings:\n",
    "        candidates[rating[0]] += (rating[1]/5.0)*userSimilarityScore "
   ]
  },
  {
   "cell_type": "code",
   "execution_count": 86,
   "metadata": {},
   "outputs": [
    {
     "name": "stdout",
     "output_type": "stream",
     "text": [
      "Movies Recommended for user 85:\n",
      "Star Wars: Episode IV - A New Hope (1977) 41.27909060973983\n",
      "Matrix, The (1999) 37.74516923620332\n",
      "Fight Club (1999) 31.548121451305892\n",
      "Dark Knight, The (2008) 30.463175311744596\n",
      "Star Wars: Episode V - The Empire Strikes Back (1980) 29.388998075906482\n",
      "Inception (2010) 28.025896768821298\n",
      "Godfather, The (1972) 25.39244887677702\n",
      "Star Wars: Episode VI - Return of the Jedi (1983) 24.75124511021841\n",
      "Lord of the Rings: The Return of the King, The (2003) 23.68454893764024\n",
      "Lord of the Rings: The Fellowship of the Ring, The (2001) 23.47185513567623\n",
      "American Beauty (1999) 21.828195487268104\n"
     ]
    }
   ],
   "source": [
    "print(\"Movies Recommended for user 85:\")\n",
    "ix = 0\n",
    "for itemID,ratingSum in sorted(candidates.items(),key = lambda x:x[1],reverse = True):\n",
    "    if not itemID in watched:\n",
    "        movieID = trainSet.to_raw_iid(itemID)\n",
    "        print(ml.getMovieName(int(movieID)),ratingSum)\n",
    "        ix += 1\n",
    "        if(ix > 10):\n",
    "            break      "
   ]
  },
  {
   "cell_type": "markdown",
   "metadata": {},
   "source": [
    "## Item Based Recommendation"
   ]
  },
  {
   "cell_type": "code",
   "execution_count": 68,
   "metadata": {},
   "outputs": [
    {
     "name": "stdout",
     "output_type": "stream",
     "text": [
      "Computing the cosine similarity matrix...\n",
      "Done computing similarity matrix.\n",
      "Computing the cosine similarity matrix...\n",
      "Done computing similarity matrix.\n"
     ]
    }
   ],
   "source": [
    "simsOptions = {'name':'cosine','user_based':False}\n",
    "model = KNNBasic(sim_options=simsOptions)\n",
    "model.fit(trainSet)\n",
    "simsMatrix = model.compute_similarities()"
   ]
  },
  {
   "cell_type": "code",
   "execution_count": 69,
   "metadata": {},
   "outputs": [],
   "source": [
    "testUserInnerID = trainSet.to_inner_uid(testUser)\n",
    "testUserRatings = trainSet.ur[testUserInnerID]"
   ]
  },
  {
   "cell_type": "code",
   "execution_count": 74,
   "metadata": {},
   "outputs": [],
   "source": [
    "#kNeighbors = heapq.nlargest(k, testUserRatings, key=lambda x:x[1])\n",
    "kNeighbors = []\n",
    "for rating in testUserRatings:\n",
    "    if rating[1] > 4.0:\n",
    "        kNeighbors.append(rating)"
   ]
  },
  {
   "cell_type": "markdown",
   "metadata": {},
   "source": [
    "#### Finding similarity between top 10 movies rated by user 85 and all other movies in the dataset"
   ]
  },
  {
   "cell_type": "code",
   "execution_count": 75,
   "metadata": {},
   "outputs": [],
   "source": [
    "candidates = defaultdict(float)\n",
    "for itemID,rating in kNeighbors:\n",
    "    similarityRow = simsMatrix[itemID]\n",
    "    for innerID, score in enumerate(similarityRow):\n",
    "        candidates[innerID] += score * (rating / 5.0)"
   ]
  },
  {
   "cell_type": "code",
   "execution_count": 76,
   "metadata": {},
   "outputs": [
    {
     "name": "stdout",
     "output_type": "stream",
     "text": [
      "Movies Recommended for user 85:\n",
      "Kiss of Death (1995) 16.910437073265502\n",
      "Amos & Andrew (1993) 16.861270021975354\n",
      "Edge of Seventeen (1998) 16.853845983977223\n",
      "Get Real (1998) 16.840092759084882\n",
      "Grace of My Heart (1996) 16.83866418909583\n",
      "Relax... It's Just Sex (1998) 16.825893097731395\n",
      "My Crazy Life (Mi vida loca) (1993) 16.825163372963015\n",
      "Set It Off (1996) 16.820045947032426\n",
      "Bean (1997) 16.81043113102984\n",
      "Joe's Apartment (1996) 16.804698282071367\n",
      "Lost & Found (1999) 16.78956315445952\n"
     ]
    }
   ],
   "source": [
    "print(\"Movies Recommended for user 85:\")\n",
    "ix = 0\n",
    "for itemID,ratingSum in sorted(candidates.items(),key = lambda x:x[1],reverse = True):\n",
    "    if not itemID in watched:\n",
    "        movieID = trainSet.to_raw_iid(itemID)\n",
    "        print(ml.getMovieName(int(movieID)),ratingSum)\n",
    "        ix += 1\n",
    "        if(ix > 10):\n",
    "            break    "
   ]
  },
  {
   "cell_type": "code",
   "execution_count": null,
   "metadata": {},
   "outputs": [],
   "source": []
  }
 ],
 "metadata": {
  "kernelspec": {
   "display_name": "Python 3",
   "language": "python",
   "name": "python3"
  },
  "language_info": {
   "codemirror_mode": {
    "name": "ipython",
    "version": 3
   },
   "file_extension": ".py",
   "mimetype": "text/x-python",
   "name": "python",
   "nbconvert_exporter": "python",
   "pygments_lexer": "ipython3",
   "version": "3.6.8"
  }
 },
 "nbformat": 4,
 "nbformat_minor": 2
}
